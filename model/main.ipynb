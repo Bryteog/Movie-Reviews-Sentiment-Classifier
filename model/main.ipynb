{
 "cells": [
  {
   "cell_type": "code",
   "execution_count": 1,
   "metadata": {},
   "outputs": [
    {
     "name": "stdout",
     "output_type": "stream",
     "text": [
      "WARNING:tensorflow:From c:\\Users\\dell\\miniconda3\\envs\\tf_cpu\\Lib\\site-packages\\keras\\src\\losses.py:2976: The name tf.losses.sparse_softmax_cross_entropy is deprecated. Please use tf.compat.v1.losses.sparse_softmax_cross_entropy instead.\n",
      "\n"
     ]
    }
   ],
   "source": [
    "import warnings\n",
    "warnings.filterwarnings('ignore')\n",
    "import re\n",
    "import string\n",
    "import numpy as np\n",
    "import pandas as pd\n",
    "import matplotlib.pyplot as plt\n",
    "import tensorflow as tf\n",
    "from tensorflow import keras\n",
    "from tensorflow.keras import layers\n",
    "from tensorflow.keras.layers import TextVectorization\n",
    "from tensorflow.keras.metrics import Precision, Recall\n",
    "import gradio as gr                                     \n",
    "from Constants import *"
   ]
  },
  {
   "cell_type": "code",
   "execution_count": 2,
   "metadata": {},
   "outputs": [
    {
     "data": {
      "text/html": [
       "<div>\n",
       "<style scoped>\n",
       "    .dataframe tbody tr th:only-of-type {\n",
       "        vertical-align: middle;\n",
       "    }\n",
       "\n",
       "    .dataframe tbody tr th {\n",
       "        vertical-align: top;\n",
       "    }\n",
       "\n",
       "    .dataframe thead th {\n",
       "        text-align: right;\n",
       "    }\n",
       "</style>\n",
       "<table border=\"1\" class=\"dataframe\">\n",
       "  <thead>\n",
       "    <tr style=\"text-align: right;\">\n",
       "      <th></th>\n",
       "      <th>PhraseId</th>\n",
       "      <th>SentenceId</th>\n",
       "      <th>Phrase</th>\n",
       "      <th>Sentiment</th>\n",
       "    </tr>\n",
       "  </thead>\n",
       "  <tbody>\n",
       "    <tr>\n",
       "      <th>0</th>\n",
       "      <td>1</td>\n",
       "      <td>1</td>\n",
       "      <td>A series of escapades demonstrating the adage ...</td>\n",
       "      <td>1</td>\n",
       "    </tr>\n",
       "    <tr>\n",
       "      <th>1</th>\n",
       "      <td>2</td>\n",
       "      <td>1</td>\n",
       "      <td>A series of escapades demonstrating the adage ...</td>\n",
       "      <td>2</td>\n",
       "    </tr>\n",
       "    <tr>\n",
       "      <th>2</th>\n",
       "      <td>3</td>\n",
       "      <td>1</td>\n",
       "      <td>A series</td>\n",
       "      <td>2</td>\n",
       "    </tr>\n",
       "    <tr>\n",
       "      <th>3</th>\n",
       "      <td>4</td>\n",
       "      <td>1</td>\n",
       "      <td>A</td>\n",
       "      <td>2</td>\n",
       "    </tr>\n",
       "    <tr>\n",
       "      <th>4</th>\n",
       "      <td>5</td>\n",
       "      <td>1</td>\n",
       "      <td>series</td>\n",
       "      <td>2</td>\n",
       "    </tr>\n",
       "  </tbody>\n",
       "</table>\n",
       "</div>"
      ],
      "text/plain": [
       "   PhraseId  SentenceId                                             Phrase   \n",
       "0         1           1  A series of escapades demonstrating the adage ...  \\\n",
       "1         2           1  A series of escapades demonstrating the adage ...   \n",
       "2         3           1                                           A series   \n",
       "3         4           1                                                  A   \n",
       "4         5           1                                             series   \n",
       "\n",
       "   Sentiment  \n",
       "0          1  \n",
       "1          2  \n",
       "2          2  \n",
       "3          2  \n",
       "4          2  "
      ]
     },
     "execution_count": 2,
     "metadata": {},
     "output_type": "execute_result"
    }
   ],
   "source": [
    "train.head()"
   ]
  },
  {
   "cell_type": "code",
   "execution_count": 3,
   "metadata": {},
   "outputs": [
    {
     "data": {
      "text/html": [
       "<div>\n",
       "<style scoped>\n",
       "    .dataframe tbody tr th:only-of-type {\n",
       "        vertical-align: middle;\n",
       "    }\n",
       "\n",
       "    .dataframe tbody tr th {\n",
       "        vertical-align: top;\n",
       "    }\n",
       "\n",
       "    .dataframe thead th {\n",
       "        text-align: right;\n",
       "    }\n",
       "</style>\n",
       "<table border=\"1\" class=\"dataframe\">\n",
       "  <thead>\n",
       "    <tr style=\"text-align: right;\">\n",
       "      <th></th>\n",
       "      <th>PhraseId</th>\n",
       "      <th>SentenceId</th>\n",
       "      <th>Phrase</th>\n",
       "    </tr>\n",
       "  </thead>\n",
       "  <tbody>\n",
       "    <tr>\n",
       "      <th>0</th>\n",
       "      <td>156061</td>\n",
       "      <td>8545</td>\n",
       "      <td>An intermittently pleasing but mostly routine ...</td>\n",
       "    </tr>\n",
       "    <tr>\n",
       "      <th>1</th>\n",
       "      <td>156062</td>\n",
       "      <td>8545</td>\n",
       "      <td>An intermittently pleasing but mostly routine ...</td>\n",
       "    </tr>\n",
       "    <tr>\n",
       "      <th>2</th>\n",
       "      <td>156063</td>\n",
       "      <td>8545</td>\n",
       "      <td>An</td>\n",
       "    </tr>\n",
       "    <tr>\n",
       "      <th>3</th>\n",
       "      <td>156064</td>\n",
       "      <td>8545</td>\n",
       "      <td>intermittently pleasing but mostly routine effort</td>\n",
       "    </tr>\n",
       "    <tr>\n",
       "      <th>4</th>\n",
       "      <td>156065</td>\n",
       "      <td>8545</td>\n",
       "      <td>intermittently pleasing but mostly routine</td>\n",
       "    </tr>\n",
       "  </tbody>\n",
       "</table>\n",
       "</div>"
      ],
      "text/plain": [
       "   PhraseId  SentenceId                                             Phrase\n",
       "0    156061        8545  An intermittently pleasing but mostly routine ...\n",
       "1    156062        8545  An intermittently pleasing but mostly routine ...\n",
       "2    156063        8545                                                 An\n",
       "3    156064        8545  intermittently pleasing but mostly routine effort\n",
       "4    156065        8545         intermittently pleasing but mostly routine"
      ]
     },
     "execution_count": 3,
     "metadata": {},
     "output_type": "execute_result"
    }
   ],
   "source": [
    "test.head()"
   ]
  },
  {
   "cell_type": "code",
   "execution_count": 4,
   "metadata": {},
   "outputs": [],
   "source": [
    "train = train.drop_duplicates(subset = [\"SentenceId\"], keep =\"first\")"
   ]
  },
  {
   "cell_type": "code",
   "execution_count": 5,
   "metadata": {},
   "outputs": [],
   "source": [
    "test = test.drop_duplicates(subset = [\"SentenceId\"], keep =\"first\")"
   ]
  },
  {
   "cell_type": "code",
   "execution_count": 6,
   "metadata": {},
   "outputs": [
    {
     "data": {
      "text/plain": [
       "PhraseId                                                      1\n",
       "SentenceId                                                    1\n",
       "Phrase        A series of escapades demonstrating the adage ...\n",
       "Sentiment                                                     1\n",
       "Name: 0, dtype: object"
      ]
     },
     "execution_count": 6,
     "metadata": {},
     "output_type": "execute_result"
    }
   ],
   "source": [
    "train.iloc[0]"
   ]
  },
  {
   "cell_type": "code",
   "execution_count": 7,
   "metadata": {},
   "outputs": [],
   "source": [
    "#train[\"Sentiment\"].value_counts().plot(kind = \"bar\")"
   ]
  },
  {
   "cell_type": "markdown",
   "metadata": {},
   "source": [
    "Sentiments values are;\n",
    "- 0 : Negative\n",
    "- 1 : Somewhat Negative\n",
    "- 2 : Neutral\n",
    "- 3 : Somewhat Positive\n",
    "- 4 : Positive"
   ]
  },
  {
   "cell_type": "code",
   "execution_count": 7,
   "metadata": {},
   "outputs": [
    {
     "data": {
      "text/html": [
       "<div>\n",
       "<style scoped>\n",
       "    .dataframe tbody tr th:only-of-type {\n",
       "        vertical-align: middle;\n",
       "    }\n",
       "\n",
       "    .dataframe tbody tr th {\n",
       "        vertical-align: top;\n",
       "    }\n",
       "\n",
       "    .dataframe thead th {\n",
       "        text-align: right;\n",
       "    }\n",
       "</style>\n",
       "<table border=\"1\" class=\"dataframe\">\n",
       "  <thead>\n",
       "    <tr style=\"text-align: right;\">\n",
       "      <th></th>\n",
       "      <th>Sentiment</th>\n",
       "    </tr>\n",
       "  </thead>\n",
       "  <tbody>\n",
       "    <tr>\n",
       "      <th>0</th>\n",
       "      <td>1</td>\n",
       "    </tr>\n",
       "    <tr>\n",
       "      <th>63</th>\n",
       "      <td>4</td>\n",
       "    </tr>\n",
       "    <tr>\n",
       "      <th>81</th>\n",
       "      <td>1</td>\n",
       "    </tr>\n",
       "    <tr>\n",
       "      <th>116</th>\n",
       "      <td>3</td>\n",
       "    </tr>\n",
       "    <tr>\n",
       "      <th>156</th>\n",
       "      <td>1</td>\n",
       "    </tr>\n",
       "    <tr>\n",
       "      <th>...</th>\n",
       "      <td>...</td>\n",
       "    </tr>\n",
       "    <tr>\n",
       "      <th>155984</th>\n",
       "      <td>2</td>\n",
       "    </tr>\n",
       "    <tr>\n",
       "      <th>155997</th>\n",
       "      <td>2</td>\n",
       "    </tr>\n",
       "    <tr>\n",
       "      <th>156021</th>\n",
       "      <td>1</td>\n",
       "    </tr>\n",
       "    <tr>\n",
       "      <th>156031</th>\n",
       "      <td>1</td>\n",
       "    </tr>\n",
       "    <tr>\n",
       "      <th>156039</th>\n",
       "      <td>2</td>\n",
       "    </tr>\n",
       "  </tbody>\n",
       "</table>\n",
       "<p>8529 rows × 1 columns</p>\n",
       "</div>"
      ],
      "text/plain": [
       "        Sentiment\n",
       "0               1\n",
       "63              4\n",
       "81              1\n",
       "116             3\n",
       "156             1\n",
       "...           ...\n",
       "155984          2\n",
       "155997          2\n",
       "156021          1\n",
       "156031          1\n",
       "156039          2\n",
       "\n",
       "[8529 rows x 1 columns]"
      ]
     },
     "execution_count": 7,
     "metadata": {},
     "output_type": "execute_result"
    }
   ],
   "source": [
    "train[train.columns[3:]].iloc[:]"
   ]
  },
  {
   "cell_type": "code",
   "execution_count": 8,
   "metadata": {},
   "outputs": [
    {
     "data": {
      "text/plain": [
       "Index(['PhraseId', 'SentenceId', 'Phrase', 'Sentiment'], dtype='object')"
      ]
     },
     "execution_count": 8,
     "metadata": {},
     "output_type": "execute_result"
    }
   ],
   "source": [
    "train.columns"
   ]
  },
  {
   "cell_type": "code",
   "execution_count": 9,
   "metadata": {},
   "outputs": [
    {
     "name": "stdout",
     "output_type": "stream",
     "text": [
      "[1 4 3 2 0]\n",
      "5\n"
     ]
    }
   ],
   "source": [
    "num_classes = len(train[\"Sentiment\"].unique())\n",
    "print(train[\"Sentiment\"].unique())\n",
    "print(num_classes)"
   ]
  },
  {
   "cell_type": "code",
   "execution_count": 10,
   "metadata": {},
   "outputs": [],
   "source": [
    "X = train[\"Phrase\"]\n",
    "y = train[train.columns[3:]].values"
   ]
  },
  {
   "cell_type": "code",
   "execution_count": 11,
   "metadata": {},
   "outputs": [],
   "source": [
    "def custom_standardisation(input_data):\n",
    "    lowercase = tf.strings.lower(input_data)\n",
    "    stripped_punct = tf.strings.regex_replace(lowercase, \n",
    "                                              \"{~`!@$%^&*()_+\"\";..-=[;:/#.,\\\\t\\n|?><']}\",\n",
    "                                         ' ')\n",
    "    \n",
    "    return tf.strings.regex_replace(stripped_punct,\n",
    "                                    '[%s]' % re.escape(string.punctuation),\n",
    "                                    '')"
   ]
  },
  {
   "cell_type": "code",
   "execution_count": 12,
   "metadata": {},
   "outputs": [
    {
     "name": "stdout",
     "output_type": "stream",
     "text": [
      "WARNING:tensorflow:From c:\\Users\\dell\\miniconda3\\envs\\tf_cpu\\Lib\\site-packages\\keras\\src\\backend.py:873: The name tf.get_default_graph is deprecated. Please use tf.compat.v1.get_default_graph instead.\n",
      "\n"
     ]
    }
   ],
   "source": [
    "vectoriser = TextVectorization(\n",
    "    standardize = custom_standardisation,\n",
    "    max_tokens = MAX_FEATURES,\n",
    "    output_sequence_length = SEQUENCE_LENGTH,\n",
    "    output_mode = 'int'\n",
    ")"
   ]
  },
  {
   "cell_type": "code",
   "execution_count": 13,
   "metadata": {},
   "outputs": [
    {
     "name": "stdout",
     "output_type": "stream",
     "text": [
      "WARNING:tensorflow:From c:\\Users\\dell\\miniconda3\\envs\\tf_cpu\\Lib\\site-packages\\keras\\src\\utils\\tf_utils.py:492: The name tf.ragged.RaggedTensorValue is deprecated. Please use tf.compat.v1.ragged.RaggedTensorValue instead.\n",
      "\n"
     ]
    }
   ],
   "source": [
    "vectoriser.adapt(X.values)"
   ]
  },
  {
   "cell_type": "code",
   "execution_count": 14,
   "metadata": {},
   "outputs": [
    {
     "name": "stdout",
     "output_type": "stream",
     "text": [
      "the\n",
      "seen\n",
      "british\n"
     ]
    }
   ],
   "source": [
    "print(vectoriser.get_vocabulary()[2])\n",
    "print(vectoriser.get_vocabulary()[200])\n",
    "print(vectoriser.get_vocabulary()[1000])"
   ]
  },
  {
   "cell_type": "code",
   "execution_count": 15,
   "metadata": {},
   "outputs": [
    {
     "data": {
      "text/plain": [
       "<tf.Tensor: shape=(8529, 2000), dtype=int64, numpy=\n",
       "array([[   3,  309,    5, ...,    0,    0,    0],\n",
       "       [  17,  610, 4912, ...,    0,    0,    0],\n",
       "       [  61,  286,    5, ...,    0,    0,    0],\n",
       "       ...,\n",
       "       [  44,  439,   43, ...,    0,    0,    0],\n",
       "       [   2,   18,    8, ...,    0,    0,    0],\n",
       "       [   2,   14,    7, ...,    0,    0,    0]], dtype=int64)>"
      ]
     },
     "execution_count": 15,
     "metadata": {},
     "output_type": "execute_result"
    }
   ],
   "source": [
    "vectorised_text = vectoriser(X.values)\n",
    "vectorised_text"
   ]
  },
  {
   "cell_type": "code",
   "execution_count": 16,
   "metadata": {},
   "outputs": [],
   "source": [
    "dataset = tf.data.Dataset.from_tensor_slices((vectorised_text, y))\n",
    "dataset = dataset.cache().shuffle(160000).batch(16).prefetch(8)"
   ]
  },
  {
   "cell_type": "code",
   "execution_count": 17,
   "metadata": {},
   "outputs": [],
   "source": [
    "train_set = dataset.take(int(len(dataset) * 0.7))\n",
    "val_set = dataset.skip(int(len(dataset) * 0.7)).take(int(len(dataset) * 0.2))\n",
    "test_set = dataset.skip(int(len(dataset) * 0.9)).take(int(len(dataset) * 0.1))"
   ]
  },
  {
   "cell_type": "code",
   "execution_count": 23,
   "metadata": {},
   "outputs": [],
   "source": [
    "model = keras.Sequential([\n",
    "    layers.Embedding(MAX_FEATURES + 1, 32),\n",
    "    layers.Bidirectional(layers.LSTM(32, activation = 'tanh')),\n",
    "    layers.Dense(128, activation = 'relu'),\n",
    "    layers.Dropout(0.25),\n",
    "    layers.Dense(64, activation = 'relu'),\n",
    "    layers.Dense(num_classes, activation = 'softmax')\n",
    "])"
   ]
  },
  {
   "cell_type": "code",
   "execution_count": 24,
   "metadata": {},
   "outputs": [
    {
     "name": "stdout",
     "output_type": "stream",
     "text": [
      "Model: \"sequential\"\n",
      "_________________________________________________________________\n",
      " Layer (type)                Output Shape              Param #   \n",
      "=================================================================\n",
      " embedding (Embedding)       (None, None, 32)          320032    \n",
      "                                                                 \n",
      " bidirectional (Bidirection  (None, 64)                16640     \n",
      " al)                                                             \n",
      "                                                                 \n",
      " dense (Dense)               (None, 128)               8320      \n",
      "                                                                 \n",
      " dropout (Dropout)           (None, 128)               0         \n",
      "                                                                 \n",
      " dense_1 (Dense)             (None, 64)                8256      \n",
      "                                                                 \n",
      " dense_2 (Dense)             (None, 5)                 325       \n",
      "                                                                 \n",
      "=================================================================\n",
      "Total params: 353573 (1.35 MB)\n",
      "Trainable params: 353573 (1.35 MB)\n",
      "Non-trainable params: 0 (0.00 Byte)\n",
      "_________________________________________________________________\n"
     ]
    }
   ],
   "source": [
    "model.summary()"
   ]
  },
  {
   "cell_type": "code",
   "execution_count": 25,
   "metadata": {},
   "outputs": [
    {
     "name": "stdout",
     "output_type": "stream",
     "text": [
      "WARNING:tensorflow:From c:\\Users\\dell\\miniconda3\\envs\\tf_cpu\\Lib\\site-packages\\keras\\src\\optimizers\\__init__.py:301: The name tf.train.Optimizer is deprecated. Please use tf.compat.v1.train.Optimizer instead.\n",
      "\n"
     ]
    }
   ],
   "source": [
    "model.compile(\n",
    "    optimizer = 'adam',\n",
    "    loss = 'sparse_categorical_crossentropy',\n",
    "    metrics = [\"accuracy\"]\n",
    ")"
   ]
  },
  {
   "cell_type": "code",
   "execution_count": 26,
   "metadata": {},
   "outputs": [],
   "source": [
    "#tensorboard = Tensorboard(log_dir = \"logs/{}\".format(time()))"
   ]
  },
  {
   "cell_type": "code",
   "execution_count": 27,
   "metadata": {},
   "outputs": [
    {
     "name": "stdout",
     "output_type": "stream",
     "text": [
      "Epoch 1/30\n",
      "WARNING:tensorflow:From c:\\Users\\dell\\miniconda3\\envs\\tf_cpu\\Lib\\site-packages\\keras\\src\\engine\\base_layer_utils.py:384: The name tf.executing_eagerly_outside_functions is deprecated. Please use tf.compat.v1.executing_eagerly_outside_functions instead.\n",
      "\n",
      "373/373 [==============================] - 396s 1s/step - loss: 1.5650 - accuracy: 0.2793 - val_loss: 1.4608 - val_accuracy: 0.3726\n",
      "Epoch 2/30\n",
      "373/373 [==============================] - 377s 1s/step - loss: 1.3549 - accuracy: 0.4070 - val_loss: 1.1608 - val_accuracy: 0.4876\n",
      "Epoch 3/30\n",
      "373/373 [==============================] - 365s 979ms/step - loss: 1.1530 - accuracy: 0.5092 - val_loss: 1.0013 - val_accuracy: 0.6221\n",
      "Epoch 4/30\n",
      "373/373 [==============================] - 359s 962ms/step - loss: 0.9916 - accuracy: 0.5997 - val_loss: 0.7903 - val_accuracy: 0.6928\n",
      "Epoch 5/30\n",
      "373/373 [==============================] - 358s 959ms/step - loss: 0.8712 - accuracy: 0.6493 - val_loss: 0.7156 - val_accuracy: 0.7358\n",
      "Epoch 6/30\n",
      "373/373 [==============================] - 365s 979ms/step - loss: 0.7410 - accuracy: 0.7195 - val_loss: 0.6012 - val_accuracy: 0.7877\n",
      "Epoch 7/30\n",
      "373/373 [==============================] - 367s 984ms/step - loss: 0.6428 - accuracy: 0.7634 - val_loss: 0.4796 - val_accuracy: 0.8331\n",
      "Epoch 8/30\n",
      "373/373 [==============================] - 384s 1s/step - loss: 0.5453 - accuracy: 0.8068 - val_loss: 0.4251 - val_accuracy: 0.8567\n",
      "Epoch 9/30\n",
      "373/373 [==============================] - 384s 1s/step - loss: 0.4370 - accuracy: 0.8527 - val_loss: 0.3334 - val_accuracy: 0.8950\n",
      "Epoch 10/30\n",
      "373/373 [==============================] - 375s 1s/step - loss: 0.3731 - accuracy: 0.8718 - val_loss: 0.2707 - val_accuracy: 0.9080\n",
      "Epoch 11/30\n",
      "373/373 [==============================] - 380s 1s/step - loss: 0.3330 - accuracy: 0.8901 - val_loss: 0.2440 - val_accuracy: 0.9216\n",
      "Epoch 12/30\n",
      "373/373 [==============================] - 417s 1s/step - loss: 0.2820 - accuracy: 0.9042 - val_loss: 0.2450 - val_accuracy: 0.9204\n",
      "Epoch 13/30\n",
      "373/373 [==============================] - 424s 1s/step - loss: 0.2386 - accuracy: 0.9207 - val_loss: 0.1696 - val_accuracy: 0.9446\n",
      "Epoch 14/30\n",
      "373/373 [==============================] - 376s 1s/step - loss: 0.2159 - accuracy: 0.9286 - val_loss: 0.1589 - val_accuracy: 0.9511\n",
      "Epoch 15/30\n",
      "373/373 [==============================] - 388s 1s/step - loss: 0.1931 - accuracy: 0.9325 - val_loss: 0.1272 - val_accuracy: 0.9575\n",
      "Epoch 16/30\n",
      "373/373 [==============================] - 373s 1s/step - loss: 0.1653 - accuracy: 0.9460 - val_loss: 0.1659 - val_accuracy: 0.9422\n",
      "Epoch 17/30\n",
      "373/373 [==============================] - 377s 1s/step - loss: 0.1664 - accuracy: 0.9464 - val_loss: 0.1200 - val_accuracy: 0.9623\n",
      "Epoch 18/30\n",
      "373/373 [==============================] - 386s 1s/step - loss: 0.1329 - accuracy: 0.9576 - val_loss: 0.1090 - val_accuracy: 0.9688\n",
      "Epoch 19/30\n",
      "373/373 [==============================] - 429s 1s/step - loss: 0.1179 - accuracy: 0.9589 - val_loss: 0.1448 - val_accuracy: 0.9469\n",
      "Epoch 20/30\n",
      "373/373 [==============================] - 386s 1s/step - loss: 0.1324 - accuracy: 0.9598 - val_loss: 0.0777 - val_accuracy: 0.9776\n",
      "Epoch 21/30\n",
      "373/373 [==============================] - 378s 1s/step - loss: 0.1078 - accuracy: 0.9650 - val_loss: 0.1507 - val_accuracy: 0.9540\n",
      "Epoch 22/30\n",
      "373/373 [==============================] - 373s 1000ms/step - loss: 0.1080 - accuracy: 0.9660 - val_loss: 0.0792 - val_accuracy: 0.9735\n",
      "Epoch 23/30\n",
      "373/373 [==============================] - 377s 1s/step - loss: 0.0962 - accuracy: 0.9672 - val_loss: 0.0573 - val_accuracy: 0.9776\n",
      "Epoch 24/30\n",
      "373/373 [==============================] - 373s 1s/step - loss: 0.0866 - accuracy: 0.9717 - val_loss: 0.0580 - val_accuracy: 0.9770\n",
      "Epoch 25/30\n",
      "373/373 [==============================] - 382s 1s/step - loss: 0.0866 - accuracy: 0.9724 - val_loss: 0.0824 - val_accuracy: 0.9746\n",
      "Epoch 26/30\n",
      "373/373 [==============================] - 355s 952ms/step - loss: 0.0888 - accuracy: 0.9700 - val_loss: 0.1030 - val_accuracy: 0.9658\n",
      "Epoch 27/30\n",
      "373/373 [==============================] - 356s 953ms/step - loss: 0.0823 - accuracy: 0.9734 - val_loss: 0.0489 - val_accuracy: 0.9864\n",
      "Epoch 28/30\n",
      "373/373 [==============================] - 376s 1s/step - loss: 0.0876 - accuracy: 0.9700 - val_loss: 0.0564 - val_accuracy: 0.9805\n",
      "Epoch 29/30\n",
      "373/373 [==============================] - 377s 1s/step - loss: 0.0732 - accuracy: 0.9777 - val_loss: 0.0420 - val_accuracy: 0.9864\n",
      "Epoch 30/30\n",
      "373/373 [==============================] - 365s 978ms/step - loss: 0.0604 - accuracy: 0.9797 - val_loss: 0.0352 - val_accuracy: 0.9870\n"
     ]
    }
   ],
   "source": [
    "history = model.fit(train_set,\n",
    "                    validation_data = val_set,\n",
    "                    batch_size = BATCH_SIZE,\n",
    "                    verbose = 1,\n",
    "                    #callbacks = [tensorboard],\n",
    "                    epochs = 30)"
   ]
  },
  {
   "cell_type": "code",
   "execution_count": 28,
   "metadata": {},
   "outputs": [
    {
     "name": "stdout",
     "output_type": "stream",
     "text": [
      "53/53 [==============================] - 8s 157ms/step - loss: 0.0461 - accuracy: 0.9882\n"
     ]
    },
    {
     "data": {
      "text/plain": [
       "[0.046119242906570435, 0.9882075190544128]"
      ]
     },
     "execution_count": 28,
     "metadata": {},
     "output_type": "execute_result"
    }
   ],
   "source": [
    "model.evaluate(test_set)"
   ]
  },
  {
   "cell_type": "code",
   "execution_count": 30,
   "metadata": {},
   "outputs": [],
   "source": [
    "history = history.history"
   ]
  },
  {
   "cell_type": "code",
   "execution_count": 40,
   "metadata": {},
   "outputs": [],
   "source": [
    "val_loss = history['val_loss']\n",
    "loss = history['loss']\n",
    "\n",
    "val_accuracy = history[\"val_accuracy\"]\n",
    "accuracy = history[\"accuracy\"]"
   ]
  },
  {
   "cell_type": "code",
   "execution_count": 42,
   "metadata": {},
   "outputs": [
    {
     "data": {
      "image/png": "[encoded data removed]",
      "text/plain": [
       "<Figure size 640x480 with 1 Axes>"
      ]
     },
     "metadata": {},
     "output_type": "display_data"
    }
   ],
   "source": [
    "plt.plot(accuracy, label = \"Training Accuracy\")\n",
    "plt.plot(val_accuracy, label = \"Validation Accuracy\")\n",
    "plt.legend(loc = 'upper left')\n",
    "plt.title(\"Training and Validation Accuracy\")\n",
    "plt.show()"
   ]
  },
  {
   "cell_type": "code",
   "execution_count": 32,
   "metadata": {},
   "outputs": [
    {
     "data": {
      "image/png": "[encoded data removed]",
      "text/plain": [
       "<Figure size 640x480 with 1 Axes>"
      ]
     },
     "metadata": {},
     "output_type": "display_data"
    }
   ],
   "source": [
    "plt.plot(loss, label = \"Training Loss\")\n",
    "plt.plot(val_loss, label = \"Validation Loss\")\n",
    "plt.legend(loc = 'upper right')\n",
    "plt.title(\"Training and Validation Loss\")\n",
    "plt.show()"
   ]
  },
  {
   "cell_type": "code",
   "execution_count": 33,
   "metadata": {},
   "outputs": [],
   "source": [
    "model.save(\"movie_reviews.h5\")"
   ]
  },
  {
   "cell_type": "code",
   "execution_count": 19,
   "metadata": {},
   "outputs": [],
   "source": [
    "model = tf.keras.models.load_model(\"movie_reviews.h5\")"
   ]
  },
  {
   "cell_type": "code",
   "execution_count": 20,
   "metadata": {},
   "outputs": [],
   "source": [
    "sample_text = vectoriser(\"Subpar writing and bad scenes, this movie can certainly be improved\")"
   ]
  },
  {
   "cell_type": "code",
   "execution_count": 26,
   "metadata": {},
   "outputs": [
    {
     "name": "stdout",
     "output_type": "stream",
     "text": [
      "1/1 [==============================] - 0s 153ms/step\n"
     ]
    },
    {
     "data": {
      "text/plain": [
       "array([[1.7468819e-04, 9.9443251e-01, 5.3047021e-03, 8.7931607e-05,\n",
       "        1.8907659e-07]], dtype=float32)"
      ]
     },
     "execution_count": 26,
     "metadata": {},
     "output_type": "execute_result"
    }
   ],
   "source": [
    "result = model.predict(np.expand_dims(sample_text, 0))\n",
    "result#.max()"
   ]
  },
  {
   "cell_type": "code",
   "execution_count": 27,
   "metadata": {},
   "outputs": [
    {
     "data": {
      "text/plain": [
       "Index(['Sentiment'], dtype='object')"
      ]
     },
     "execution_count": 27,
     "metadata": {},
     "output_type": "execute_result"
    }
   ],
   "source": [
    "train.columns[3:]"
   ]
  },
  {
   "cell_type": "code",
   "execution_count": 31,
   "metadata": {},
   "outputs": [],
   "source": [
    "def score_comment(comment):\n",
    "    vectorised_comment = vectoriser([comment])\n",
    "    result = model.predict(vectorised_comment)\n",
    "    \n",
    "    text = ''\n",
    "    for idx, col in enumerate(train.columns[3:]):\n",
    "        text += \"{} : {}\\n\".format(col, result[0][idx] > 0.5)\n",
    "        \n",
    "    return text"
   ]
  },
  {
   "cell_type": "code",
   "execution_count": 32,
   "metadata": {},
   "outputs": [],
   "source": [
    "interface = gr.Interface(\n",
    "    score_comment,\n",
    "    gr.Textbox(lines = 3, placeholder = \"Movie Review\"),\n",
    "    \"text\"\n",
    ")"
   ]
  },
  {
   "cell_type": "code",
   "execution_count": 33,
   "metadata": {},
   "outputs": [
    {
     "name": "stdout",
     "output_type": "stream",
     "text": [
      "Running on local URL:  http://127.0.0.1:7861\n",
      "\n",
      "Could not create share link. Please check your internet connection or our status page: https://status.gradio.app.\n"
     ]
    },
    {
     "data": {
      "text/html": [
       "<div><iframe src=\"http://127.0.0.1:7861/\" width=\"100%\" height=\"500\" allow=\"autoplay; camera; microphone; clipboard-read; clipboard-write;\" frameborder=\"0\" allowfullscreen></iframe></div>"
      ],
      "text/plain": [
       "<IPython.core.display.HTML object>"
      ]
     },
     "metadata": {},
     "output_type": "display_data"
    },
    {
     "data": {
      "text/plain": []
     },
     "execution_count": 33,
     "metadata": {},
     "output_type": "execute_result"
    },
    {
     "name": "stdout",
     "output_type": "stream",
     "text": [
      "1/1 [==============================] - 0s 140ms/step\n"
     ]
    }
   ],
   "source": [
    "interface.launch(share = True)"
   ]
  },
  {
   "cell_type": "code",
   "execution_count": null,
   "metadata": {},
   "outputs": [],
   "source": [
    "# Try find code on how to run prediction on array of comments\n",
    "# find a way to create a dataframe for just the target sentiments with 1 for true targets and zero for false targets"
   ]
  },
  {
   "cell_type": "code",
   "execution_count": null,
   "metadata": {},
   "outputs": [],
   "source": []
  }
 ],
 "metadata": {
  "kernelspec": {
   "display_name": "tf_cpu",
   "language": "python",
   "name": "python3"
  },
  "language_info": {
   "codemirror_mode": {
    "name": "ipython",
    "version": 3
   },
   "file_extension": ".py",
   "mimetype": "text/x-python",
   "name": "python",
   "nbconvert_exporter": "python",
   "pygments_lexer": "ipython3",
   "version": "3.11.5"
  },
  "orig_nbformat": 4
 },
 "nbformat": 4,
 "nbformat_minor": 2
}
